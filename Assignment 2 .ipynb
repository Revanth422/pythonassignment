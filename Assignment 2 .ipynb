{
 "cells": [
  {
   "cell_type": "markdown",
   "id": "ada43cbe-fc6a-4081-905f-4de5d11ad730",
   "metadata": {},
   "source": [
    "assignment 2"
   ]
  },
  {
   "cell_type": "markdown",
   "id": "62c450be-6e9c-44ca-8b69-7a46d4270d12",
   "metadata": {},
   "source": [
    "### problem 1)"
   ]
  },
  {
   "cell_type": "code",
   "execution_count": 27,
   "id": "1f7bea61-6c31-464f-bbf3-16f3fbc40890",
   "metadata": {},
   "outputs": [],
   "source": [
    "def digit_count(number, digit):\n",
    "    return str(number).count(str(digit))"
   ]
  },
  {
   "cell_type": "code",
   "execution_count": 29,
   "id": "5405dff7-2e18-4c50-973f-a18ba41df435",
   "metadata": {},
   "outputs": [
    {
     "name": "stdout",
     "output_type": "stream",
     "text": [
      "2\n"
     ]
    }
   ],
   "source": [
    "digit_count(1231, 1)"
   ]
  },
  {
   "cell_type": "code",
   "execution_count": 31,
   "id": "3dd472f8-9d9e-45e7-94e7-4fb5b7d73311",
   "metadata": {},
   "outputs": [
    {
     "name": "stdout",
     "output_type": "stream",
     "text": [
      "1\n"
     ]
    }
   ],
   "source": [
    "digit_count(1231, 3)"
   ]
  },
  {
   "cell_type": "code",
   "execution_count": 33,
   "id": "3cc6df81-4a2e-43d4-8392-876a61f59ee7",
   "metadata": {},
   "outputs": [
    {
     "name": "stdout",
     "output_type": "stream",
     "text": [
      "0\n"
     ]
    }
   ],
   "source": [
    "print(digit_count(1231, 9))"
   ]
  },
  {
   "cell_type": "markdown",
   "id": "5bfed3c5-65b0-4f35-9276-ec777a933cb2",
   "metadata": {},
   "source": [
    "### problem 2)"
   ]
  },
  {
   "cell_type": "code",
   "execution_count": 39,
   "id": "e679cab9-6884-4912-bf82-88be8a424a7a",
   "metadata": {},
   "outputs": [],
   "source": [
    "def despace(text):\n",
    "    return text.replace(\" \", \"\")"
   ]
  },
  {
   "cell_type": "code",
   "execution_count": 41,
   "id": "041ef24e-e4aa-4213-a2ba-a730ace95bab",
   "metadata": {},
   "outputs": [
    {
     "name": "stdout",
     "output_type": "stream",
     "text": [
      "pisecondsisananocentury\n"
     ]
    }
   ],
   "source": [
    "print(despace(\"pi seconds is a nano century\"))"
   ]
  },
  {
   "cell_type": "code",
   "execution_count": 43,
   "id": "aa6ab827-e6f7-4445-bc86-9d52d072c24b",
   "metadata": {},
   "outputs": [
    {
     "name": "stdout",
     "output_type": "stream",
     "text": [
      "abcde\n"
     ]
    }
   ],
   "source": [
    "print(despace(\"a b c d e\")) "
   ]
  },
  {
   "cell_type": "markdown",
   "id": "7a948f51-fce5-43e0-aa7e-bc0ed4c4c288",
   "metadata": {},
   "source": [
    "problem 3)"
   ]
  },
  {
   "cell_type": "code",
   "execution_count": 45,
   "id": "cadcdb57-e934-4f30-8373-5b06b904bb1a",
   "metadata": {},
   "outputs": [],
   "source": [
    "def reverse_words(sentence):\n",
    "    words = sentence.split()\n",
    "    reversed_words = \" \".join(reversed(words))\n",
    "    return reversed_words"
   ]
  },
  {
   "cell_type": "code",
   "execution_count": 47,
   "id": "b2b2fb1c-f210-4c4d-a95b-5d07569af2d9",
   "metadata": {},
   "outputs": [
    {
     "data": {
      "text/plain": [
       "'programming of joy'"
      ]
     },
     "execution_count": 47,
     "metadata": {},
     "output_type": "execute_result"
    }
   ],
   "source": [
    "reverse_words(\"joy of programming\")"
   ]
  },
  {
   "cell_type": "code",
   "execution_count": 49,
   "id": "b2304640-7f88-4b23-812c-198b106fd781",
   "metadata": {},
   "outputs": [
    {
     "data": {
      "text/plain": [
       "'on and on ever goes road'"
      ]
     },
     "execution_count": 49,
     "metadata": {},
     "output_type": "execute_result"
    }
   ],
   "source": [
    "reverse_words(\"road goes ever on and on\")"
   ]
  },
  {
   "cell_type": "markdown",
   "id": "cf2923ef-7fb3-4707-9351-5458bec07372",
   "metadata": {},
   "source": [
    "problem 4)"
   ]
  },
  {
   "cell_type": "code",
   "execution_count": 17,
   "id": "9f474457-fe36-418f-85a8-5282b3197726",
   "metadata": {},
   "outputs": [
    {
     "name": "stdout",
     "output_type": "stream",
     "text": [
      "The sum of all multiples of 3 or 5 below 1000 is: 233168\n"
     ]
    }
   ],
   "source": [
    "def sum_of_multiples(limit):\n",
    "    total = 0\n",
    "    for i in range(limit):\n",
    "        if i % 3 == 0 or i % 5 == 0:\n",
    "            total += i\n",
    "    return total\n",
    "\n",
    "# Example\n",
    "result = sum_of_multiples(1000)\n",
    "print(f\"The sum of all multiples of 3 or 5 below 1000 is: {result}\")"
   ]
  },
  {
   "cell_type": "markdown",
   "id": "c52afaa9-3a53-4d6e-bdca-5170c929bb18",
   "metadata": {},
   "source": [
    "problem 5)"
   ]
  },
  {
   "cell_type": "code",
   "execution_count": 20,
   "id": "fefd123b-55e0-4ab7-a328-dcab450faef7",
   "metadata": {},
   "outputs": [
    {
     "name": "stdout",
     "output_type": "stream",
     "text": [
      "bYtpJeGl\n",
      "PnYxaovm69L9PjgF50JxIfwX2\n"
     ]
    }
   ],
   "source": [
    "import random\n",
    "import string\n",
    "\n",
    "def generate_password(n):\n",
    "    characters = string.ascii_letters + string.digits\n",
    "    password = ''.join(random.choice(characters) for _ in range(n))\n",
    "    return password\n",
    "\n",
    "# Examples\n",
    "print(generate_password(8))   # Example: 'rBZLcP8V'\n",
    "print(generate_password(25))  # Example: 'JU938tUT36QRvVEPh9OLrxlrB'"
   ]
  },
  {
   "cell_type": "markdown",
   "id": "be20b7fb-4150-425a-a7bb-efef8c2f4a0d",
   "metadata": {},
   "source": [
    "problem 6)"
   ]
  },
  {
   "cell_type": "code",
   "execution_count": null,
   "id": "ebfa2ae5-c825-4f7f-be37-0d6f92624f9d",
   "metadata": {},
   "outputs": [],
   "source": [
    ">>> import random\n",
    ">>> names = [\"alice\", \"bob\", \"charlie\", \"dave\"]\n",
    ">>> random.choice(names)\n",
    "'charlie'\n",
    ">>> random.choice(names)\n",
    "'alice'"
   ]
  },
  {
   "cell_type": "code",
   "execution_count": 53,
   "id": "68beb49b-1f84-4439-a7b8-29c6cba07535",
   "metadata": {},
   "outputs": [
    {
     "name": "stdout",
     "output_type": "stream",
     "text": [
      "Overwriting fortune.txt\n"
     ]
    }
   ],
   "source": [
    "%%file fortune.txt\n",
    "You will soon forget this.\n",
    "%\n",
    "Too much is just enough.\n",
    "                -- Mark Twain, on whiskey\n",
    "%\n",
    "Q:      Why did the astrophysicist order three hamburgers?\n",
    "A:      Because he was hungry.\n",
    "%\n",
    "You will be aided greatly by a person whom you thought to be unimportant.\n",
    "%\n",
    "Communicate!  It can't make things any worse.\n",
    "%\n",
    "It usually takes more than three weeks to prepare a good impromptu speech.\n",
    "                -- Mark Twain\n",
    "%\n",
    "Write yourself a threatening letter and pen a defiant reply.\n",
    "%\n",
    "You should go home.\n",
    "%\n",
    "You are taking yourself far too seriously.\n",
    "%\n",
    "Q:      Do you know what the death rate around here is?\n",
    "A:      One per person.\n",
    "%\n",
    "You need no longer worry about the future.  This time tomorrow you'll be dead. "
   ]
  },
  {
   "cell_type": "markdown",
   "id": "4bbeb493-d16c-4e85-819d-f5632e4c2497",
   "metadata": {},
   "source": [
    "problem 7)"
   ]
  },
  {
   "cell_type": "code",
   "execution_count": 43,
   "id": "3ebf408a-defb-4bdf-be39-d76b6fab63b4",
   "metadata": {},
   "outputs": [
    {
     "name": "stdout",
     "output_type": "stream",
     "text": [
      "Usage: python countdown.py <number>\n"
     ]
    },
    {
     "name": "stdin",
     "output_type": "stream",
     "text": [
      " 5\n"
     ]
    },
    {
     "name": "stdout",
     "output_type": "stream",
     "text": [
      "5\n",
      "4\n",
      "3\n",
      "2\n",
      "1\n"
     ]
    }
   ],
   "source": [
    "import sys\n",
    "\n",
    "def countdown(n):\n",
    "    for i in range(n, 0, -1):\n",
    "        print(i)\n",
    "\n",
    "if __name__ == '__main__':\n",
    "    if len(sys.argv) != 2:\n",
    "        print(\"Usage: python countdown.py <number>\")\n",
    "    else:\n",
    "        try:\n",
    "            number = int(sys.argv[1])\n",
    "            countdown(number)\n",
    "        except ValueError:\n",
    "            print(\"Please provide a valid integer.\")"
   ]
  },
  {
   "cell_type": "markdown",
   "id": "b0317ffd-7f9b-4007-b628-fb1c66de7b5d",
   "metadata": {},
   "source": [
    "problem 8)"
   ]
  },
  {
   "cell_type": "code",
   "execution_count": 47,
   "id": "67eeab6d-1403-47f8-9db4-7e47b148d7ea",
   "metadata": {},
   "outputs": [
    {
     "name": "stdout",
     "output_type": "stream",
     "text": [
      "Overwriting 5.txt\n"
     ]
    }
   ],
   "source": [
    "%%file 5.txt\n",
    "1\n",
    "2\n",
    "3\n",
    "4\n",
    "5"
   ]
  },
  {
   "cell_type": "code",
   "execution_count": 49,
   "id": "8ee8b401-67a8-41e0-8be2-9b8d71caa41b",
   "metadata": {},
   "outputs": [
    {
     "name": "stdout",
     "output_type": "stream",
     "text": [
      "Overwriting numbers.txt\n"
     ]
    }
   ],
   "source": [
    "%%file numbers.txt\n",
    "1\n",
    "16\n",
    "12\n",
    "37\n",
    "42\n",
    "19\n",
    "9\n",
    "15\n",
    "18\n",
    "24"
   ]
  },
  {
   "cell_type": "code",
   "execution_count": 3,
   "id": "65c0fc09-8efa-46de-a3e1-763dd86b05d4",
   "metadata": {},
   "outputs": [],
   "source": [
    "def largest_number_in_file(file_name):\n",
    "    with open(file_name, 'r') as file:\n",
    "        numbers = file.readlines()\n",
    "        numbers = [int(num.strip()) for num in numbers]\n",
    "        return max(numbers)"
   ]
  },
  {
   "cell_type": "code",
   "execution_count": 5,
   "id": "3da92cd3-ca4e-4575-b3f8-3cdfc106f38a",
   "metadata": {},
   "outputs": [
    {
     "name": "stdout",
     "output_type": "stream",
     "text": [
      "5\n"
     ]
    }
   ],
   "source": [
    "print(largest_number_in_file(\"5.txt\")) "
   ]
  },
  {
   "cell_type": "code",
   "execution_count": 7,
   "id": "9a8b0898-43c9-47c9-8c5c-47d364a15d4e",
   "metadata": {},
   "outputs": [
    {
     "name": "stdout",
     "output_type": "stream",
     "text": [
      "42\n"
     ]
    }
   ],
   "source": [
    "print(largest_number_in_file(\"numbers.txt\"))"
   ]
  },
  {
   "cell_type": "markdown",
   "id": "eff78501-976a-435a-9caf-21f37d8f8735",
   "metadata": {},
   "source": [
    "problem 9)"
   ]
  },
  {
   "cell_type": "code",
   "execution_count": 11,
   "id": "3bf2c413-03a1-408a-9413-443966e92970",
   "metadata": {},
   "outputs": [
    {
     "data": {
      "image/png": "[encoded data removed]",
      "text/plain": [
       "<Figure size 640x480 with 1 Axes>"
      ]
     },
     "metadata": {},
     "output_type": "display_data"
    }
   ],
   "source": [
    "import matplotlib.pyplot as plt\n",
    "import numpy as np\n",
    "\n",
    "x = np.linspace(-2, 2, 400)\n",
    "\n",
    "y1 = x**2\n",
    "y2 = 2**x\n",
    "\n",
    "plt.plot(x, y1, label=r'$y = x^2$')\n",
    "plt.plot(x, y2, label=r'$y = 2^x$')\n",
    "\n",
    "plt.legend()\n",
    "\n",
    "plt.xlabel('x-axis')\n",
    "plt.ylabel('y-axis')\n",
    "plt.title('Plot of $y = x^2$ and $y = 2^x$')\n",
    "\n",
    "plt.grid(True)\n",
    "plt.show()\n"
   ]
  },
  {
   "cell_type": "markdown",
   "id": "c7ba3236-a92c-4d7c-8c75-f6475d2c39bf",
   "metadata": {},
   "source": [
    "problem 10)"
   ]
  },
  {
   "cell_type": "code",
   "execution_count": 23,
   "id": "16dffb8a-6ddf-4bea-9129-dee2bc3931e2",
   "metadata": {},
   "outputs": [],
   "source": [
    "import numpy as np\n",
    "\n",
    "def manhattan_distance(point1, point2):\n",
    "    point1 = np.array(point1)\n",
    "    point2 = np.array(point2)\n",
    "    return np.sum(np.abs(point1 - point2))"
   ]
  },
  {
   "cell_type": "code",
   "execution_count": 25,
   "id": "46452302-8ed7-435c-90af-014a4a9577dc",
   "metadata": {},
   "outputs": [
    {
     "data": {
      "text/plain": [
       "7"
      ]
     },
     "execution_count": 25,
     "metadata": {},
     "output_type": "execute_result"
    }
   ],
   "source": [
    "manhattan_distance([0, 0],[3, 4])"
   ]
  }
 ],
 "metadata": {
  "kernelspec": {
   "display_name": "Python 3 (ipykernel)",
   "language": "python",
   "name": "python3"
  },
  "language_info": {
   "codemirror_mode": {
    "name": "ipython",
    "version": 3
   },
   "file_extension": ".py",
   "mimetype": "text/x-python",
   "name": "python",
   "nbconvert_exporter": "python",
   "pygments_lexer": "ipython3",
   "version": "3.12.4"
  }
 },
 "nbformat": 4,
 "nbformat_minor": 5
}
